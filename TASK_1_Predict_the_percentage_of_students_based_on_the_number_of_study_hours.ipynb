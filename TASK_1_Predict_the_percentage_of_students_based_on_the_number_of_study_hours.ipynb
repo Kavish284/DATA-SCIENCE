{
  "nbformat": 4,
  "nbformat_minor": 0,
  "metadata": {
    "colab": {
      "name": "TASK-1 Predict the percentage of students based on the number of study hours ",
      "provenance": [],
      "collapsed_sections": []
    },
    "kernelspec": {
      "display_name": "Python 3",
      "name": "python3"
    }
  },
  "cells": [
    {
      "cell_type": "markdown",
      "metadata": {
        "id": "view-in-github"
      },
      "source": [
        "<a href=\"https://colab.research.google.com/github/KhelanShah/Data-Science/blob/main/Sparks_task1(v)__(1).ipynb\" target=\"_parent\"><img src=\"https://colab.research.google.com/assets/colab-badge.svg\" alt=\"Open In Colab\"/></a>"
      ]
    },
    {
      "cell_type": "markdown",
      "metadata": {
        "id": "tqQrIhH6tcvt"
      },
      "source": [
        "<h1><b>THE SPARKS FOUNDATION Data Science And Business Analysis Tasks Intern </b></h1>\n",
        "\n",
        "<h2><b>Task-1 Prediction Using Supervised ML</b></h2>\n",
        "\n",
        "<h2><b>BY KAVISH KOTHARI</b></h2>\n",
        "\n"
      ]
    },
    {
      "cell_type": "markdown",
      "metadata": {
        "id": "vTSIcBc_PQoE"
      },
      "source": [
        "<h2><b>Statement 1- Predict the percentage of students based on the number of study hours.</b></h2>"
      ]
    },
    {
      "cell_type": "markdown",
      "metadata": {
        "id": "53hytU5KtpjD"
      },
      "source": [
        "# <h5><b>Step:1 The first step is to import the libraries that are required for the implementation of the code operation.  Here we import the Pandas to import and analyze data, NumPy to perform the multi-dimensional operation, and matplotlib to perform graphical plot into the context.</b></h5>"
      ]
    },
    {
      "cell_type": "code",
      "metadata": {
        "id": "pqE4ZvKZt7Tc"
      },
      "source": [
        "import pandas as pd\n",
        "import numpy as np\n",
        "import matplotlib.pyplot as plt\n",
        "%matplotlib inline"
      ],
      "execution_count": null,
      "outputs": []
    },
    {
      "cell_type": "markdown",
      "metadata": {
        "id": "oM9lftmevn4D"
      },
      "source": [
        "<h5><b>Step:2 Import the Dataset</b></h5>"
      ]
    },
    {
      "cell_type": "code",
      "metadata": {
        "colab": {
          "base_uri": "https://localhost:8080/",
          "height": 312
        },
        "id": "2HFAs_Wzvoov",
        "outputId": "ddbaecae-ca53-4b8f-aa8f-63bfb6d3c03b"
      },
      "source": [
        "url = \"http://bit.ly/w-data\"\n",
        "df = pd.read_csv(url)\n",
        "print(\"Data imported successfully\")\n",
        "\n",
        "df.head(25)\n",
        "df.describe()"
      ],
      "execution_count": null,
      "outputs": [
        {
          "output_type": "stream",
          "name": "stdout",
          "text": [
            "Data imported successfully\n"
          ]
        },
        {
          "output_type": "execute_result",
          "data": {
            "text/html": [
              "<div>\n",
              "<style scoped>\n",
              "    .dataframe tbody tr th:only-of-type {\n",
              "        vertical-align: middle;\n",
              "    }\n",
              "\n",
              "    .dataframe tbody tr th {\n",
              "        vertical-align: top;\n",
              "    }\n",
              "\n",
              "    .dataframe thead th {\n",
              "        text-align: right;\n",
              "    }\n",
              "</style>\n",
              "<table border=\"1\" class=\"dataframe\">\n",
              "  <thead>\n",
              "    <tr style=\"text-align: right;\">\n",
              "      <th></th>\n",
              "      <th>Hours</th>\n",
              "      <th>Scores</th>\n",
              "    </tr>\n",
              "  </thead>\n",
              "  <tbody>\n",
              "    <tr>\n",
              "      <th>count</th>\n",
              "      <td>25.000000</td>\n",
              "      <td>25.000000</td>\n",
              "    </tr>\n",
              "    <tr>\n",
              "      <th>mean</th>\n",
              "      <td>5.012000</td>\n",
              "      <td>51.480000</td>\n",
              "    </tr>\n",
              "    <tr>\n",
              "      <th>std</th>\n",
              "      <td>2.525094</td>\n",
              "      <td>25.286887</td>\n",
              "    </tr>\n",
              "    <tr>\n",
              "      <th>min</th>\n",
              "      <td>1.100000</td>\n",
              "      <td>17.000000</td>\n",
              "    </tr>\n",
              "    <tr>\n",
              "      <th>25%</th>\n",
              "      <td>2.700000</td>\n",
              "      <td>30.000000</td>\n",
              "    </tr>\n",
              "    <tr>\n",
              "      <th>50%</th>\n",
              "      <td>4.800000</td>\n",
              "      <td>47.000000</td>\n",
              "    </tr>\n",
              "    <tr>\n",
              "      <th>75%</th>\n",
              "      <td>7.400000</td>\n",
              "      <td>75.000000</td>\n",
              "    </tr>\n",
              "    <tr>\n",
              "      <th>max</th>\n",
              "      <td>9.200000</td>\n",
              "      <td>95.000000</td>\n",
              "    </tr>\n",
              "  </tbody>\n",
              "</table>\n",
              "</div>"
            ],
            "text/plain": [
              "           Hours     Scores\n",
              "count  25.000000  25.000000\n",
              "mean    5.012000  51.480000\n",
              "std     2.525094  25.286887\n",
              "min     1.100000  17.000000\n",
              "25%     2.700000  30.000000\n",
              "50%     4.800000  47.000000\n",
              "75%     7.400000  75.000000\n",
              "max     9.200000  95.000000"
            ]
          },
          "metadata": {},
          "execution_count": 2
        }
      ]
    },
    {
      "cell_type": "code",
      "metadata": {
        "colab": {
          "base_uri": "https://localhost:8080/"
        },
        "id": "PPa7jVwGwAxM",
        "outputId": "4d8cd8e5-e9ee-4f0b-f676-79291048f0ef"
      },
      "source": [
        "df.shape"
      ],
      "execution_count": null,
      "outputs": [
        {
          "output_type": "execute_result",
          "data": {
            "text/plain": [
              "(25, 2)"
            ]
          },
          "metadata": {},
          "execution_count": 3
        }
      ]
    },
    {
      "cell_type": "code",
      "metadata": {
        "colab": {
          "base_uri": "https://localhost:8080/",
          "height": 203
        },
        "id": "hgkA3-TTwPfZ",
        "outputId": "fd4e3f0e-0dcf-40e4-bde6-3d3817e40ca4"
      },
      "source": [
        "df.head()"
      ],
      "execution_count": null,
      "outputs": [
        {
          "output_type": "execute_result",
          "data": {
            "text/html": [
              "<div>\n",
              "<style scoped>\n",
              "    .dataframe tbody tr th:only-of-type {\n",
              "        vertical-align: middle;\n",
              "    }\n",
              "\n",
              "    .dataframe tbody tr th {\n",
              "        vertical-align: top;\n",
              "    }\n",
              "\n",
              "    .dataframe thead th {\n",
              "        text-align: right;\n",
              "    }\n",
              "</style>\n",
              "<table border=\"1\" class=\"dataframe\">\n",
              "  <thead>\n",
              "    <tr style=\"text-align: right;\">\n",
              "      <th></th>\n",
              "      <th>Hours</th>\n",
              "      <th>Scores</th>\n",
              "    </tr>\n",
              "  </thead>\n",
              "  <tbody>\n",
              "    <tr>\n",
              "      <th>0</th>\n",
              "      <td>2.5</td>\n",
              "      <td>21</td>\n",
              "    </tr>\n",
              "    <tr>\n",
              "      <th>1</th>\n",
              "      <td>5.1</td>\n",
              "      <td>47</td>\n",
              "    </tr>\n",
              "    <tr>\n",
              "      <th>2</th>\n",
              "      <td>3.2</td>\n",
              "      <td>27</td>\n",
              "    </tr>\n",
              "    <tr>\n",
              "      <th>3</th>\n",
              "      <td>8.5</td>\n",
              "      <td>75</td>\n",
              "    </tr>\n",
              "    <tr>\n",
              "      <th>4</th>\n",
              "      <td>3.5</td>\n",
              "      <td>30</td>\n",
              "    </tr>\n",
              "  </tbody>\n",
              "</table>\n",
              "</div>"
            ],
            "text/plain": [
              "   Hours  Scores\n",
              "0    2.5      21\n",
              "1    5.1      47\n",
              "2    3.2      27\n",
              "3    8.5      75\n",
              "4    3.5      30"
            ]
          },
          "metadata": {},
          "execution_count": 4
        }
      ]
    },
    {
      "cell_type": "markdown",
      "metadata": {
        "id": "JGgMuprWwb_3"
      },
      "source": [
        "<h5><b>Step:3 Visualizing the dataset by finding relationship between data points with graphical respresentation.</h5></b>"
      ]
    },
    {
      "cell_type": "code",
      "metadata": {
        "colab": {
          "base_uri": "https://localhost:8080/",
          "height": 295
        },
        "id": "BTffExS5wc6o",
        "outputId": "289eeb42-836d-49d6-f985-92d1767cbbb5"
      },
      "source": [
        "df.plot(x= \"Hours\", y=\"Scores\",style= \"o\" ,c=\"r\")\n",
        "plt.xlabel(\"Hours Studied\")\n",
        "plt.ylabel(\"Score in percentage\")\n",
        "plt.title(\"Hours VS Scores\")\n",
        "plt.show()\n"
      ],
      "execution_count": null,
      "outputs": [
        {
          "output_type": "display_data",
          "data": {
            "image/png": "[encoded data removed]",
            "text/plain": [
              "<Figure size 432x288 with 1 Axes>"
            ]
          },
          "metadata": {
            "needs_background": "light"
          }
        }
      ]
    },
    {
      "cell_type": "markdown",
      "metadata": {
        "id": "BOjB6yJ5xaul"
      },
      "source": [
        "#### Relationship:Therefore a positive Linear Regression is observed.\n"
      ]
    },
    {
      "cell_type": "markdown",
      "metadata": {
        "id": "cGUPPlqT0Cv_"
      },
      "source": [
        "\n",
        "<h5><b>Step:4 Splitting the dataset into training and testing models</b></h5>"
      ]
    },
    {
      "cell_type": "code",
      "metadata": {
        "id": "2DGJdJKSBuGI"
      },
      "source": [
        "msk = np.random.rand(len(df)) < 0.8\n",
        "train = df[msk]\n",
        "test = df[~msk]"
      ],
      "execution_count": null,
      "outputs": []
    },
    {
      "cell_type": "markdown",
      "metadata": {
        "id": "xF6IH4XnB5fN"
      },
      "source": [
        "<h5><b>Step:5 Visualization of the training data</b></h5>"
      ]
    },
    {
      "cell_type": "code",
      "metadata": {
        "colab": {
          "base_uri": "https://localhost:8080/",
          "height": 279
        },
        "id": "ISOEWZLb01AL",
        "outputId": "1a755679-29ec-4139-ce4d-5717c3e40323"
      },
      "source": [
        "plt.scatter(train.Hours,train.Scores,color='green')\n",
        "plt.xlabel('Study hours')\n",
        "plt.ylabel('Marks scored')\n",
        "plt.show()"
      ],
      "execution_count": null,
      "outputs": [
        {
          "output_type": "display_data",
          "data": {
            "image/png": "[encoded data removed]",
            "text/plain": [
              "<Figure size 432x288 with 1 Axes>"
            ]
          },
          "metadata": {
            "needs_background": "light"
          }
        }
      ]
    },
    {
      "cell_type": "markdown",
      "metadata": {
        "id": "FN1sWbesCdhj"
      },
      "source": [
        "<b><h5>Step:6 Training the model using Simple Linear Regression</b></h5>"
      ]
    },
    {
      "cell_type": "code",
      "metadata": {
        "colab": {
          "base_uri": "https://localhost:8080/"
        },
        "id": "q8OgeeUIC1QM",
        "outputId": "d9c4a162-c664-4146-8a5a-a53003d8b899"
      },
      "source": [
        "from sklearn import linear_model\n",
        "reg = linear_model.LinearRegression()\n",
        "train_x=np.asanyarray(train[['Hours']])\n",
        "train_y=np.asanyarray(train[['Scores']])\n",
        "reg.fit(train_x,train_y)\n",
        "print ('Coefficients: ', reg.coef_)\n",
        "print ('Intercept: ',reg.intercept_)"
      ],
      "execution_count": null,
      "outputs": [
        {
          "output_type": "stream",
          "name": "stdout",
          "text": [
            "Coefficients:  [[10.01321803]]\n",
            "Intercept:  [1.1701168]\n"
          ]
        }
      ]
    },
    {
      "cell_type": "code",
      "metadata": {
        "colab": {
          "base_uri": "https://localhost:8080/"
        },
        "id": "rLk5OtVL2E6L",
        "outputId": "565f34e7-c86f-4bb4-b334-5200f10f6e25"
      },
      "source": [
        "print(\"Training has been successfully completed!\")"
      ],
      "execution_count": null,
      "outputs": [
        {
          "output_type": "stream",
          "name": "stdout",
          "text": [
            "Training has been successfully completed!\n"
          ]
        }
      ]
    },
    {
      "cell_type": "markdown",
      "metadata": {
        "id": "jXzOtK3q3JI9"
      },
      "source": [
        "<b><h5>Step:6 Let's plot the regression line.</b></h5>"
      ]
    },
    {
      "cell_type": "code",
      "metadata": {
        "colab": {
          "base_uri": "https://localhost:8080/",
          "height": 279
        },
        "id": "Bl0YVFmf3RWX",
        "outputId": "ca54dfee-5008-4952-8d64-f053e24e732f"
      },
      "source": [
        "plt.scatter(train.Hours, train.Scores,  color='Red')\n",
        "plt.plot(train_x, reg.coef_[0][0]*train_x + reg.intercept_[0], '-r')\n",
        "plt.xlabel('Study hours')\n",
        "plt.ylabel('Marks scored')\n",
        "plt.show()"
      ],
      "execution_count": null,
      "outputs": [
        {
          "output_type": "display_data",
          "data": {
            "image/png": "[encoded data removed]",
            "text/plain": [
              "<Figure size 432x288 with 1 Axes>"
            ]
          },
          "metadata": {
            "needs_background": "light"
          }
        }
      ]
    },
    {
      "cell_type": "markdown",
      "metadata": {
        "id": "hLwVu6Tk4BIJ"
      },
      "source": [
        "<b><h5>Step:7 Now let's make predictions.</b></h5>\n",
        "\n"
      ]
    },
    {
      "cell_type": "code",
      "metadata": {
        "colab": {
          "base_uri": "https://localhost:8080/"
        },
        "id": "PzSiOIoH4Jj2",
        "outputId": "7a673ea0-615d-46e3-967a-52cc8da3384f"
      },
      "source": [
        "test_x = np.asanyarray(test[['Hours']])\n",
        "test_y = np.asanyarray(test[['Scores']])\n",
        "test_y_ = reg.predict(test_x)\n",
        "print(test_y_)"
      ],
      "execution_count": null,
      "outputs": [
        {
          "output_type": "stream",
          "name": "stdout",
          "text": [
            "[[16.18994384]\n",
            " [60.24810318]\n",
            " [26.20316187]\n",
            " [75.26793022]]\n"
          ]
        }
      ]
    },
    {
      "cell_type": "markdown",
      "metadata": {
        "id": "CEicp42y6hlX"
      },
      "source": [
        "<b><h2>Evaluating the model</b></h2>"
      ]
    },
    {
      "cell_type": "markdown",
      "metadata": {
        "id": "lSKCxaz06nHr"
      },
      "source": [
        "#### The final step is to evaluate the performance of algorithm. This step is particularly important to compare how well different algorithms perform on a particular dataset. For simplicity here, we have chosen the mean square error. There are many such metrics."
      ]
    },
    {
      "cell_type": "markdown",
      "metadata": {
        "id": "V4w9OYMR4gNC"
      },
      "source": [
        "\n",
        "<b><h5>Step:8 Evaluating mean absolute error</b></h5>"
      ]
    },
    {
      "cell_type": "code",
      "metadata": {
        "colab": {
          "base_uri": "https://localhost:8080/"
        },
        "id": "8v4BP7vx4jl8",
        "outputId": "d2a960b8-8f58-4bea-c390-3a7649142f40"
      },
      "source": [
        "from sklearn.metrics import r2_score\n",
        "print(\"Mean absolute error: %.2f\" % np.mean(np.absolute(test_y_ - test_y)))\n",
        "print(\"Residual sum of squares (MSE): %.2f\" % np.mean((test_y_ - test_y) ** 2))\n",
        "print(\"R2-score: %.2f\" % r2_score(test_y , test_y_) )"
      ],
      "execution_count": null,
      "outputs": [
        {
          "output_type": "stream",
          "name": "stdout",
          "text": [
            "Mean absolute error: 3.91\n",
            "Residual sum of squares (MSE): 17.82\n",
            "R2-score: 0.96\n"
          ]
        }
      ]
    },
    {
      "cell_type": "markdown",
      "metadata": {
        "id": "bw2nvJsW4rGP"
      },
      "source": [
        "<h2><b>Statement 2- Predict the score if student studies for 9.25 hours a day.</b></h2>"
      ]
    },
    {
      "cell_type": "markdown",
      "metadata": {
        "id": "sFCTKB7147oB"
      },
      "source": [
        "<h5><b>Step:9 Predicting the score of a student who studies for 9.25 hours a day.</b></h5>"
      ]
    },
    {
      "cell_type": "code",
      "metadata": {
        "colab": {
          "base_uri": "https://localhost:8080/"
        },
        "id": "Ush4GhQR5Dad",
        "outputId": "b106f805-5e3a-44b8-fdf7-25c1a1ebe52f"
      },
      "source": [
        "hours = [9.25],[0]\n",
        "own_pred = reg.predict(hours)\n",
        "print(\"No of Hours = \",hours[0])\n",
        "print(\"Predicted Score = \",own_pred[0])"
      ],
      "execution_count": null,
      "outputs": [
        {
          "output_type": "stream",
          "name": "stdout",
          "text": [
            "No of Hours =  [9.25]\n",
            "Predicted Score =  [93.79238358]\n"
          ]
        }
      ]
    },
    {
      "cell_type": "markdown",
      "metadata": {
        "id": "It7g8rslFYnl"
      },
      "source": [
        ""
      ]
    }
  ]
}